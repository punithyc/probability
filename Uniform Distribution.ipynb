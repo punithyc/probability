{
 "cells": [
  {
   "cell_type": "code",
   "execution_count": 1,
   "id": "0c416287",
   "metadata": {},
   "outputs": [],
   "source": [
    "import numpy as np\n",
    "import pandas as pd\n",
    "import matplotlib.pyplot as plt\n",
    "import seaborn as sns\n",
    "import plotly.express as px\n",
    "import scipy.stats as stats\n",
    "%matplotlib inline"
   ]
  },
  {
   "cell_type": "markdown",
   "id": "7915f52f",
   "metadata": {},
   "source": [
    "**Example 1:** Wait times at a coffee shop are uniformly distributed between 5 and 15 minutes. Find the probability that a customer waits less than 10 minutes."
   ]
  },
  {
   "cell_type": "markdown",
   "id": "a2abc3ba",
   "metadata": {},
   "source": [
    "**Mathematical Explanation:** For a continuous uniform distribution over \n",
    "[\n",
    "𝑎\n",
    ",\n",
    "𝑏\n",
    "]\n",
    "[a,b], the probability \n",
    "𝑃\n",
    "(\n",
    "𝑋\n",
    "≤\n",
    "𝑥\n",
    ")\n",
    "P(X≤x) is given by :\n",
    "\n",
    "𝑃\n",
    "(\n",
    "𝑋\n",
    "≤\n",
    "𝑥\n",
    ")\n",
    "=\n",
    "𝑥\n",
    "−\n",
    "𝑎/\n",
    "𝑏\n",
    "−\n",
    "𝑎\n",
    "\n",
    "P(X≤10)= \n",
    "10−5/\n",
    "15−5\n",
    "​\n",
    " =0.5\n",
    "\n"
   ]
  },
  {
   "cell_type": "code",
   "execution_count": 2,
   "id": "20266405",
   "metadata": {},
   "outputs": [
    {
     "name": "stdout",
     "output_type": "stream",
     "text": [
      "Probability of waiting less than 10 minutes: 0.5\n"
     ]
    }
   ],
   "source": [
    "from scipy.stats import uniform\n",
    "loc, scale = 5, 15 - 5\n",
    "probability = uniform.cdf(10, loc=loc, scale=scale)\n",
    "print(\"Probability of waiting less than 10 minutes:\", probability)\n"
   ]
  },
  {
   "cell_type": "markdown",
   "id": "6ab20f70",
   "metadata": {},
   "source": [
    "**Example 2 :** Trains arrive uniformly between 0 and 30 minutes past the hour. What is the probability a train arrives within the first 10 minutes?\n",
    "\n",
    "P(X≤10)= \n",
    "10−0/\n",
    "30−0\n",
    "​\n",
    " =0.3333"
   ]
  },
  {
   "cell_type": "markdown",
   "id": "234aca05",
   "metadata": {},
   "source": [
    "loc, scale = 0, 30\n",
    "probability = uniform.cdf(10, loc=loc, scale=scale)\n",
    "print(\"Probability that train arrives within first 10 minutes:\", probability)\n"
   ]
  },
  {
   "cell_type": "code",
   "execution_count": 7,
   "id": "282723aa",
   "metadata": {},
   "outputs": [
    {
     "name": "stdout",
     "output_type": "stream",
     "text": [
      "Probability that train arrives within first 10 minutes:0.3333\n"
     ]
    }
   ],
   "source": [
    "loc, scale = 0, 30\n",
    "probability = uniform.cdf(10, loc=loc, scale=scale)\n",
    "print(\"Probability that train arrives within first 10 minutes:%.4f\" % probability)\n"
   ]
  },
  {
   "cell_type": "markdown",
   "id": "e9803460",
   "metadata": {},
   "source": [
    "**Example 3:** Meal prep times range uniformly between 15 and 45 minutes. Find the probability of completing meal prep within 25 minutes.\n",
    "\n",
    "P(X≤25)= \n",
    "25−15/\n",
    "45−15\n",
    "​\n",
    " =0.3333"
   ]
  },
  {
   "cell_type": "code",
   "execution_count": 9,
   "id": "78128536",
   "metadata": {},
   "outputs": [
    {
     "name": "stdout",
     "output_type": "stream",
     "text": [
      "Probability of finishing meal prep within 25 minutes:0.3333\n"
     ]
    }
   ],
   "source": [
    "loc, scale = 15, 45 - 15\n",
    "probability = uniform.cdf(25, loc=loc, scale=scale)\n",
    "print(\"Probability of finishing meal prep within 25 minutes:%.4f\" % probability)\n"
   ]
  },
  {
   "cell_type": "markdown",
   "id": "7f9462ec",
   "metadata": {},
   "source": [
    "**Example 4:** A commuter’s travel time is uniformly distributed between 30 and 60 minutes. What is the probability that they commute in more than 40 minutes?\n",
    "\n",
    "P(X>40)=1−P(X≤40)=1− \n",
    "40−30/\n",
    "60−30\n",
    "​\n",
    " =0.6667"
   ]
  },
  {
   "cell_type": "code",
   "execution_count": 11,
   "id": "752fd1b8",
   "metadata": {},
   "outputs": [
    {
     "name": "stdout",
     "output_type": "stream",
     "text": [
      "Probability of commuting more than 40 minutes:0.6667\n"
     ]
    }
   ],
   "source": [
    "loc, scale = 30, 60 - 30\n",
    "probability = 1 - uniform.cdf(40, loc=loc, scale=scale)\n",
    "print(\"Probability of commuting more than 40 minutes:%.4f\" % probability)\n"
   ]
  },
  {
   "cell_type": "markdown",
   "id": "de5bbb1d",
   "metadata": {},
   "source": [
    "**Example 5:** Wind speeds are uniformly distributed between 10 and 20 km/h. Calculate the probability that wind speeds are below 15 km/h.\n",
    "\n",
    "P(X≤15)= \n",
    "15−10/\n",
    "20−10\n",
    "​\n",
    " =0.5"
   ]
  },
  {
   "cell_type": "code",
   "execution_count": 12,
   "id": "6013e27d",
   "metadata": {},
   "outputs": [
    {
     "name": "stdout",
     "output_type": "stream",
     "text": [
      "Probability that wind speed is below 15 km/h: 0.5\n"
     ]
    }
   ],
   "source": [
    "loc, scale = 10, 20 - 10\n",
    "probability = uniform.cdf(15, loc=loc, scale=scale)\n",
    "print(\"Probability that wind speed is below 15 km/h:\", probability)\n"
   ]
  },
  {
   "cell_type": "markdown",
   "id": "ec597d0b",
   "metadata": {},
   "source": [
    "**Example 6:** The time a patient spends in a clinic is uniformly distributed between 10 and 40 minutes. Find the probability that a patient spends more than 35 minutes in the clinic.\n",
    "\n",
    "P(X>35)=1−P(X≤35)=1− \n",
    "35−10/\n",
    "40−10\n",
    "​\n",
    " =0.1667"
   ]
  },
  {
   "cell_type": "code",
   "execution_count": 14,
   "id": "4c65343a",
   "metadata": {},
   "outputs": [
    {
     "name": "stdout",
     "output_type": "stream",
     "text": [
      "Probability of spending more than 35 minutes in the clinic:0.1667\n"
     ]
    }
   ],
   "source": [
    "from scipy.stats import uniform\n",
    "loc, scale = 10, 40 - 10\n",
    "probability = 1 - uniform.cdf(35, loc=loc, scale=scale)\n",
    "print(\"Probability of spending more than 35 minutes in the clinic:%.4f\"% probability)\n"
   ]
  },
  {
   "cell_type": "markdown",
   "id": "9d10f5b8",
   "metadata": {},
   "source": [
    "**Example 7 :** A customer’s arrival time at a restaurant is uniformly distributed between 5 p.m. and 7 p.m. What’s the probability they arrive between 5:30 p.m. and 6:30 p.m.?\n",
    "P(5.5≤X≤6.5)= \n",
    "6.5−5.5/7−5\n",
    "​\n",
    " =0.5\n"
   ]
  },
  {
   "cell_type": "code",
   "execution_count": 15,
   "id": "f7652fe4",
   "metadata": {},
   "outputs": [
    {
     "name": "stdout",
     "output_type": "stream",
     "text": [
      "Probability of arriving between 5:30 p.m. and 6:30 p.m.: 0.5\n"
     ]
    }
   ],
   "source": [
    "loc, scale = 17, 19 - 17  # Time in 24-hour format\n",
    "probability = uniform.cdf(18.5, loc=loc, scale=scale) - uniform.cdf(17.5, loc=loc, scale=scale)\n",
    "print(\"Probability of arriving between 5:30 p.m. and 6:30 p.m.:\", probability)\n"
   ]
  },
  {
   "cell_type": "markdown",
   "id": "75bed046",
   "metadata": {},
   "source": [
    "**Example 8 :** Rainfall in a region is uniformly distributed between 0 and 20 mm. Calculate the probability that the rainfall on a particular day is between 5 mm and 15 mm.\n",
    "\n",
    "P(5≤X≤15)= 15−5/20−0\n",
    "​\n",
    " =0.5"
   ]
  },
  {
   "cell_type": "code",
   "execution_count": 16,
   "id": "a7de2e0a",
   "metadata": {},
   "outputs": [
    {
     "name": "stdout",
     "output_type": "stream",
     "text": [
      "Probability of rainfall being between 5 mm and 15 mm: 0.5\n"
     ]
    }
   ],
   "source": [
    "loc, scale = 0, 20\n",
    "probability = uniform.cdf(15, loc=loc, scale=scale) - uniform.cdf(5, loc=loc, scale=scale)\n",
    "print(\"Probability of rainfall being between 5 mm and 15 mm:\", probability)\n"
   ]
  }
 ],
 "metadata": {
  "kernelspec": {
   "display_name": "Python 3 (ipykernel)",
   "language": "python",
   "name": "python3"
  },
  "language_info": {
   "codemirror_mode": {
    "name": "ipython",
    "version": 3
   },
   "file_extension": ".py",
   "mimetype": "text/x-python",
   "name": "python",
   "nbconvert_exporter": "python",
   "pygments_lexer": "ipython3",
   "version": "3.11.5"
  }
 },
 "nbformat": 4,
 "nbformat_minor": 5
}
