{
 "cells": [
  {
   "cell_type": "code",
   "execution_count": 1,
   "id": "805357c2",
   "metadata": {},
   "outputs": [],
   "source": [
    "import numpy as np\n",
    "import pandas as pd\n",
    "import matplotlib.pyplot as plt\n",
    "import seaborn as sns\n",
    "import scipy.stats as stats\n",
    "%matplotlib inline"
   ]
  },
  {
   "cell_type": "markdown",
   "id": "ea23b707",
   "metadata": {},
   "source": [
    "**Problem 1:** A factory produces machines, and the daily failure rate is normally distributed with a mean of 5 failures per day and a standard deviation of 2. What is the probability that on a given day, more than 7 machines will fail?"
   ]
  },
  {
   "cell_type": "code",
   "execution_count": 2,
   "id": "c7ad6d86",
   "metadata": {},
   "outputs": [
    {
     "name": "stdout",
     "output_type": "stream",
     "text": [
      "The probability that more than 7 machines fail in a day is: 0.1587\n"
     ]
    }
   ],
   "source": [
    "#P(X>7)=1−CDF(7,μ=5,σ=2)\n",
    "\n",
    "# Parameters\n",
    "mean_failures = 5  # mean failures per day\n",
    "std_failures = 2   # standard deviation of failures per day\n",
    "\n",
    "# Calculate the probability of more than 7 failures\n",
    "prob_more_than_7 = 1 - stats.norm.cdf(7, mean_failures, std_failures)\n",
    "\n",
    "print(f\"The probability that more than 7 machines fail in a day is: {prob_more_than_7:.4f}\")\n"
   ]
  },
  {
   "cell_type": "markdown",
   "id": "57f0d7dd",
   "metadata": {},
   "source": [
    "**Problem 2 :** The heights of students in a class are normally distributed with a mean of 170 cm and a standard deviation of 8 cm. What is the probability that a randomly selected student is taller than 180 cm?"
   ]
  },
  {
   "cell_type": "code",
   "execution_count": 3,
   "id": "08c598b5",
   "metadata": {},
   "outputs": [
    {
     "name": "stdout",
     "output_type": "stream",
     "text": [
      "The probability that a student is taller than 180 cm is: 0.1056\n"
     ]
    }
   ],
   "source": [
    "#P(X>180)=1−CDF(180,μ=170,σ=8)\n",
    "# Parameters\n",
    "mean_height = 170  # mean height in cm\n",
    "std_height = 8     # standard deviation of height in cm\n",
    "\n",
    "# Calculate the probability of being taller than 180 cm\n",
    "prob_taller_than_180 = 1 - stats.norm.cdf(180, mean_height, std_height)\n",
    "\n",
    "print(f\"The probability that a student is taller than 180 cm is: {prob_taller_than_180:.4f}\")\n"
   ]
  },
  {
   "cell_type": "markdown",
   "id": "0304bcde",
   "metadata": {},
   "source": [
    "**Problem 3:** The daily returns of a stock are normally distributed with a mean of 0.2% and a standard deviation of 1%. What is the probability that the stock’s return is less than -1% on a given day?"
   ]
  },
  {
   "cell_type": "code",
   "execution_count": 4,
   "id": "ed2b5cfc",
   "metadata": {},
   "outputs": [
    {
     "name": "stdout",
     "output_type": "stream",
     "text": [
      "The probability that the stock's return is less than -1% is: 0.1151\n"
     ]
    }
   ],
   "source": [
    "#P(X<−0.01)=CDF(−0.01,μ=0.002,σ=0.01)\n",
    "# Parameters\n",
    "mean_return = 0.002  # mean daily return\n",
    "std_return = 0.01    # standard deviation of daily returns\n",
    "\n",
    "# Calculate the probability of return being less than -1%\n",
    "prob_less_than_neg_1 = stats.norm.cdf(-0.01, mean_return, std_return)\n",
    "\n",
    "print(f\"The probability that the stock's return is less than -1% is: {prob_less_than_neg_1:.4f}\")\n"
   ]
  },
  {
   "cell_type": "markdown",
   "id": "f0fff8ca",
   "metadata": {},
   "source": [
    "**Problem 4:** The diameter of a metal rod produced by a machine is normally distributed with a mean of 50 mm and a standard deviation of 0.2 mm. What percentage of rods will have a diameter between 49.8 mm and 50.2 mm?"
   ]
  },
  {
   "cell_type": "code",
   "execution_count": 5,
   "id": "d23427b3",
   "metadata": {},
   "outputs": [
    {
     "name": "stdout",
     "output_type": "stream",
     "text": [
      "The percentage of rods with diameter between 49.8 mm and 50.2 mm is: 68.27%\n"
     ]
    }
   ],
   "source": [
    "#P(49.8≤X≤50.2)=CDF(50.2,μ=50,σ=0.2)−CDF(49.8,μ=50,σ=0.2)\n",
    "# Parameters\n",
    "mean_diameter = 50  # mean diameter in mm\n",
    "std_diameter = 0.2  # standard deviation of diameter in mm\n",
    "\n",
    "# Calculate the probability of diameter being between 49.8 mm and 50.2 mm\n",
    "prob_between_49_8_and_50_2 = stats.norm.cdf(50.2, mean_diameter, std_diameter) - stats.norm.cdf(49.8, mean_diameter, std_diameter)\n",
    "\n",
    "print(f\"The percentage of rods with diameter between 49.8 mm and 50.2 mm is: {prob_between_49_8_and_50_2 * 100:.2f}%\")\n"
   ]
  },
  {
   "cell_type": "markdown",
   "id": "47082e88",
   "metadata": {},
   "source": [
    "**Problem 5:** The lifespan of a machine part is normally distributed with a mean of 10,000 hours and a standard deviation of 1,500 hours. What is the probability that a machine part lasts less than 8,000 hours?"
   ]
  },
  {
   "cell_type": "code",
   "execution_count": 6,
   "id": "80abd960",
   "metadata": {},
   "outputs": [
    {
     "name": "stdout",
     "output_type": "stream",
     "text": [
      "The probability that the machine part lasts less than 8,000 hours is: 0.0912\n"
     ]
    }
   ],
   "source": [
    "#P(X<8000)=CDF(8000,μ=10000,σ=1500)\n",
    "# Parameters\n",
    "mean_lifespan = 10000  # mean lifespan in hours\n",
    "std_lifespan = 1500    # standard deviation of lifespan in hours\n",
    "\n",
    "# Calculate the probability of the machine part lasting less than 8,000 hours\n",
    "prob_less_than_8000 = stats.norm.cdf(8000, mean_lifespan, std_lifespan)\n",
    "\n",
    "print(f\"The probability that the machine part lasts less than 8,000 hours is: {prob_less_than_8000:.4f}\")\n"
   ]
  },
  {
   "cell_type": "markdown",
   "id": "ab22978a",
   "metadata": {},
   "source": [
    "**Problem 6:** IQ scores are normally distributed with a mean of 100 and a standard deviation of 15. What is the probability that a person’s IQ score is between 85 and 120?"
   ]
  },
  {
   "cell_type": "code",
   "execution_count": 7,
   "id": "40937e37",
   "metadata": {},
   "outputs": [
    {
     "name": "stdout",
     "output_type": "stream",
     "text": [
      "The probability that a person's IQ score is between 85 and 120 is: 0.7501\n"
     ]
    }
   ],
   "source": [
    "#P(85≤X≤120)=CDF(120,μ=100,σ=15)−CDF(85,μ=100,σ=15)\n",
    "# Parameters\n",
    "mean_iq = 100  # mean IQ score\n",
    "std_iq = 15    # standard deviation of IQ scores\n",
    "\n",
    "# Calculate the probability of IQ score being between 85 and 120\n",
    "prob_between_85_and_120 = stats.norm.cdf(120, mean_iq, std_iq) - stats.norm.cdf(85, mean_iq, std_iq)\n",
    "\n",
    "print(f\"The probability that a person's IQ score is between 85 and 120 is: {prob_between_85_and_120:.4f}\")\n"
   ]
  },
  {
   "cell_type": "markdown",
   "id": "c57ccd24",
   "metadata": {},
   "source": [
    "**Problem 7:** A company manufactures bolts, and the weight of each bolt is normally distributed with a mean of 50 grams and a standard deviation of 3 grams. What is the probability that a randomly selected bolt weighs more than 54 grams?"
   ]
  },
  {
   "cell_type": "code",
   "execution_count": 8,
   "id": "e64c827e",
   "metadata": {},
   "outputs": [
    {
     "name": "stdout",
     "output_type": "stream",
     "text": [
      "The probability that a bolt weighs more than 54 grams is: 0.0912\n"
     ]
    }
   ],
   "source": [
    "#P(X>54)=1−CDF(54,μ=50,σ=3)\n",
    "\n",
    "# Parameters\n",
    "mean_weight = 50  # mean weight in grams\n",
    "std_weight = 3    # standard deviation of weight in grams\n",
    "\n",
    "# Calculate the probability of weight being more than 54 grams\n",
    "prob_more_than_54 = 1 - stats.norm.cdf(54, mean_weight, std_weight)\n",
    "\n",
    "print(f\"The probability that a bolt weighs more than 54 grams is: {prob_more_than_54:.4f}\")\n"
   ]
  },
  {
   "cell_type": "markdown",
   "id": "3bb9b005",
   "metadata": {},
   "source": [
    "**Problem 8:** The arrival times of flights at an airport are normally distributed with a mean delay of 5 minutes and a standard deviation of 10 minutes. What percentage of flights arrive early (i.e., with a delay of less than 0 minutes)?"
   ]
  },
  {
   "cell_type": "code",
   "execution_count": 9,
   "id": "47d3b773",
   "metadata": {},
   "outputs": [
    {
     "name": "stdout",
     "output_type": "stream",
     "text": [
      "The percentage of flights that arrive early (delay < 0 minutes) is: 30.85%\n"
     ]
    }
   ],
   "source": [
    "#P(X<0)=CDF(0,μ=5,σ=10)\n",
    "\n",
    "# Parameters\n",
    "mean_delay = 5    # mean delay in minutes\n",
    "std_delay = 10    # standard deviation of delay in minutes\n",
    "\n",
    "# Calculate the percentage of flights arriving early (delay < 0)\n",
    "percentage_early_flights = stats.norm.cdf(0, mean_delay, std_delay) * 100\n",
    "\n",
    "print(f\"The percentage of flights that arrive early (delay < 0 minutes) is: {percentage_early_flights:.2f}%\")\n"
   ]
  },
  {
   "cell_type": "markdown",
   "id": "a9cf3b15",
   "metadata": {},
   "source": [
    "**Problem 9:** The heights of adult males are normally distributed with a mean of 175 cm and a standard deviation of 10 cm. What height corresponds to the 90th percentile of this distribution? Also, what is the probability density at this height?"
   ]
  },
  {
   "cell_type": "markdown",
   "id": "b86790d0",
   "metadata": {},
   "source": [
    "\n",
    "Finding the 90th Percentile:\n",
    "\n",
    "𝑋\n",
    "90\n",
    "=\n",
    "PPF\n",
    "(\n",
    "0.90\n",
    ",\n",
    "𝜇\n",
    "=\n",
    "175\n",
    ",\n",
    "𝜎\n",
    "=\n",
    "10\n",
    ")\n",
    "X \n",
    "90\n",
    "​\n",
    " =PPF(0.90,μ=175,σ=10)\n",
    "Finding the Probability Density Function at the 90th Percentile:\n",
    "\n",
    "𝑃\n",
    "𝐷\n",
    "𝐹\n",
    "(\n",
    "𝑋\n",
    "90\n",
    ")\n",
    "=\n",
    "PDF\n",
    "(\n",
    "𝑋\n",
    "90\n",
    ",\n",
    "𝜇\n",
    "=\n",
    "175\n",
    ",\n",
    "𝜎\n",
    "=\n",
    "10\n",
    ")\n",
    "PDF(X \n",
    "90\n",
    "​\n",
    " )=PDF(X \n",
    "90\n",
    "​\n",
    " ,μ=175,σ=10)"
   ]
  },
  {
   "cell_type": "code",
   "execution_count": 10,
   "id": "13ac7460",
   "metadata": {},
   "outputs": [
    {
     "name": "stdout",
     "output_type": "stream",
     "text": [
      "The height corresponding to the 90th percentile is: 187.82 cm\n",
      "The probability density at this height is: 0.0175\n"
     ]
    }
   ],
   "source": [
    "import scipy.stats as stats\n",
    "\n",
    "# Parameters\n",
    "mean_height = 175  # mean height in cm\n",
    "std_height = 10    # standard deviation of height in cm\n",
    "\n",
    "# Calculate the 90th percentile height\n",
    "height_90th_percentile = stats.norm.ppf(0.90, mean_height, std_height)\n",
    "\n",
    "# Calculate the probability density at this height\n",
    "probability_density_at_90th = stats.norm.pdf(height_90th_percentile, mean_height, std_height)\n",
    "\n",
    "print(f\"The height corresponding to the 90th percentile is: {height_90th_percentile:.2f} cm\")\n",
    "print(f\"The probability density at this height is: {probability_density_at_90th:.4f}\")\n"
   ]
  },
  {
   "cell_type": "markdown",
   "id": "6ac3306b",
   "metadata": {},
   "source": [
    "**Problem 11:** Test scores are normally distributed with a mean of 75 and a standard deviation of 12. What score corresponds to the 25th percentile? Additionally, calculate the probability density at that score."
   ]
  },
  {
   "cell_type": "markdown",
   "id": "eb1e5f68",
   "metadata": {},
   "source": [
    "Finding the 25th Percentile:\n",
    "\n",
    "𝑋\n",
    "25\n",
    "=\n",
    "PPF\n",
    "(\n",
    "0.25\n",
    ",\n",
    "𝜇\n",
    "=\n",
    "75\n",
    ",\n",
    "𝜎\n",
    "=\n",
    "12\n",
    ")\n",
    "X \n",
    "25\n",
    "​\n",
    " =PPF(0.25,μ=75,σ=12)\n",
    "Finding the Probability Density Function at the 25th Percentile:\n",
    "\n",
    "𝑃\n",
    "𝐷\n",
    "𝐹\n",
    "(\n",
    "𝑋\n",
    "25\n",
    ")\n",
    "=\n",
    "PDF\n",
    "(\n",
    "𝑋\n",
    "25\n",
    ",\n",
    "𝜇\n",
    "=\n",
    "75\n",
    ",\n",
    "𝜎\n",
    "=\n",
    "12\n",
    ")\n",
    "PDF(X \n",
    "25\n",
    "​\n",
    " )=PDF(X \n",
    "25\n",
    "​\n",
    " ,μ=75,σ=12)"
   ]
  },
  {
   "cell_type": "code",
   "execution_count": 11,
   "id": "76292c56",
   "metadata": {},
   "outputs": [
    {
     "name": "stdout",
     "output_type": "stream",
     "text": [
      "The score corresponding to the 25th percentile is: 66.91\n",
      "The probability density at this score is: 0.0265\n"
     ]
    }
   ],
   "source": [
    "# Parameters\n",
    "mean_score = 75    # mean test score\n",
    "std_score = 12     # standard deviation of test scores\n",
    "\n",
    "# Calculate the 25th percentile score\n",
    "score_25th_percentile = stats.norm.ppf(0.25, mean_score, std_score)\n",
    "\n",
    "# Calculate the probability density at this score\n",
    "probability_density_at_25th = stats.norm.pdf(score_25th_percentile, mean_score, std_score)\n",
    "\n",
    "print(f\"The score corresponding to the 25th percentile is: {score_25th_percentile:.2f}\")\n",
    "print(f\"The probability density at this score is: {probability_density_at_25th:.4f}\")\n"
   ]
  },
  {
   "cell_type": "markdown",
   "id": "5930b4f3",
   "metadata": {},
   "source": [
    "**Problem 12:** According to the Telecommunication Industry, the average monthly cell phone bill is Rs. 850 with a standard deviation of Rs. 150. Assuming that the monthly bill follows a normal distribution, answer the following questions."
   ]
  },
  {
   "cell_type": "markdown",
   "id": "b2007206",
   "metadata": {},
   "source": [
    "**a) What is the probability that a randomly selected cell phone bill is more than Rs 1200?**"
   ]
  },
  {
   "cell_type": "code",
   "execution_count": 12,
   "id": "08a305b3",
   "metadata": {},
   "outputs": [
    {
     "data": {
      "text/plain": [
       "0.0098"
      ]
     },
     "execution_count": 12,
     "metadata": {},
     "output_type": "execute_result"
    }
   ],
   "source": [
    "round(1-stats.norm.cdf(1200,loc=850,scale=150), 4)"
   ]
  },
  {
   "cell_type": "markdown",
   "id": "a441f15b",
   "metadata": {},
   "source": [
    "**b) What is the probability that a randomly selected cell phone bill is between Rs 750 and Rs 1200?**"
   ]
  },
  {
   "cell_type": "code",
   "execution_count": 13,
   "id": "4df4248e",
   "metadata": {},
   "outputs": [
    {
     "data": {
      "text/plain": [
       "0.7377"
      ]
     },
     "execution_count": 13,
     "metadata": {},
     "output_type": "execute_result"
    }
   ],
   "source": [
    "round(stats.norm.cdf(1200,loc=850,scale=150) - stats.norm.cdf(750,loc=850,scale=150), 4)"
   ]
  },
  {
   "cell_type": "markdown",
   "id": "0490173b",
   "metadata": {},
   "source": [
    "**c) What is the probability that a randomly selected cell phone bill is no more than Rs 650?**"
   ]
  },
  {
   "cell_type": "code",
   "execution_count": 14,
   "id": "3c90dc65",
   "metadata": {},
   "outputs": [
    {
     "data": {
      "text/plain": [
       "0.0912"
      ]
     },
     "execution_count": 14,
     "metadata": {},
     "output_type": "execute_result"
    }
   ],
   "source": [
    "round(stats.norm.cdf(650,loc=850,scale=150), 4)"
   ]
  },
  {
   "cell_type": "markdown",
   "id": "e7e00716",
   "metadata": {},
   "source": [
    "**d) What is the amount above which lies top 15% of cell phone bills?**"
   ]
  },
  {
   "cell_type": "code",
   "execution_count": 15,
   "id": "3a9dea03",
   "metadata": {},
   "outputs": [
    {
     "data": {
      "text/plain": [
       "1005.4650084240685"
      ]
     },
     "execution_count": 15,
     "metadata": {},
     "output_type": "execute_result"
    }
   ],
   "source": [
    "#Let the amount be M. P(X ≥ M) = 15% => 1 – P(X < M) = 0.15 => P(X < M) = 0.85 \n",
    "#To calculate this we will use the percent point function i.e ppf.\n",
    "\n",
    "stats.norm.ppf(0.85,loc=850,scale=150)"
   ]
  },
  {
   "cell_type": "markdown",
   "id": "736fe5cc",
   "metadata": {},
   "source": [
    "**e) What is the amount below which lies bottom 25% of cell phone bills?**"
   ]
  },
  {
   "cell_type": "code",
   "execution_count": 16,
   "id": "11fd5414",
   "metadata": {},
   "outputs": [
    {
     "data": {
      "text/plain": [
       "748.8265"
      ]
     },
     "execution_count": 16,
     "metadata": {},
     "output_type": "execute_result"
    }
   ],
   "source": [
    "round(stats.norm.ppf(0.25,loc=850,scale=150), 4)"
   ]
  },
  {
   "cell_type": "markdown",
   "id": "75ef903d",
   "metadata": {},
   "source": [
    "**Problem 13:** The mean filling capacity for a coke bottle is 500 ml with a standard deviation of 20 ml. Assume that it follows a normal distribution and answer the following questions."
   ]
  },
  {
   "cell_type": "code",
   "execution_count": 17,
   "id": "9bfb44cb",
   "metadata": {},
   "outputs": [],
   "source": [
    "mu = 500\n",
    "sigma = 20"
   ]
  },
  {
   "cell_type": "markdown",
   "id": "b253f250",
   "metadata": {},
   "source": [
    "**a) What is the probability that the bottle filled less than 480 ml?**"
   ]
  },
  {
   "cell_type": "code",
   "execution_count": 18,
   "id": "3dd4bc11",
   "metadata": {},
   "outputs": [
    {
     "name": "stdout",
     "output_type": "stream",
     "text": [
      "Probability of bottle filled less than 480 ml is 0.1587\n"
     ]
    }
   ],
   "source": [
    "x1=480\n",
    "z1=(x1-mu)/sigma\n",
    "p=stats.norm.cdf(z1)\n",
    "print ('Probability of bottle filled less than 480 ml is %1.4f' %p)"
   ]
  },
  {
   "cell_type": "markdown",
   "id": "51705cd4",
   "metadata": {},
   "source": [
    "**b) What is the probability that the bottle filled more than 520 ml?**"
   ]
  },
  {
   "cell_type": "code",
   "execution_count": 19,
   "id": "2dc5e063",
   "metadata": {},
   "outputs": [
    {
     "name": "stdout",
     "output_type": "stream",
     "text": [
      "probability of bottle filled more than 520 ml is 0.1587\n"
     ]
    }
   ],
   "source": [
    "x2=520\n",
    "z2=(x2-mu)/sigma\n",
    "p1= 1 - stats.norm.cdf(z2)\n",
    "print ('probability of bottle filled more than 520 ml is %1.4f' %p1)"
   ]
  },
  {
   "cell_type": "markdown",
   "id": "1fa1d737",
   "metadata": {},
   "source": [
    "**c) What is the probability that the bottle filled between 470 ml to 525 ml?**"
   ]
  },
  {
   "cell_type": "code",
   "execution_count": 20,
   "id": "b5ac3f87",
   "metadata": {},
   "outputs": [
    {
     "name": "stdout",
     "output_type": "stream",
     "text": [
      "probability that the bottle filled between 470 ml to 525 ml is 0.8275\n"
     ]
    }
   ],
   "source": [
    "x3=470\n",
    "z3=(x3-mu)/sigma\n",
    "x4=525\n",
    "z4=(x4-mu)/sigma\n",
    "p2=stats.norm.cdf(z3)\n",
    "p3=stats.norm.cdf(z4)\n",
    "p4=p3-p2\n",
    "\n",
    "print ('probability that the bottle filled between 470 ml to 525 ml is %1.4f' %p4)"
   ]
  },
  {
   "cell_type": "markdown",
   "id": "3f5e28f6",
   "metadata": {},
   "source": [
    "**Problem 13:** In 2 Liter soft drink bottles, the drink filled is normally distributed, with a mean of 2.0 liters and a standard deviation of 0.05 liter. If bottles contain less than 95% of the listed net content (1.90 liters), the manufacturer may be subject to penalty by the state office of consumer affairs. Bottles that have a net quantity above 2.1 liters may cause excess spillage upon opening. Answer the following questions."
   ]
  },
  {
   "cell_type": "code",
   "execution_count": 21,
   "id": "98cbd971",
   "metadata": {},
   "outputs": [],
   "source": [
    "mu     = 2\n",
    "sigma  = 0.05"
   ]
  },
  {
   "cell_type": "markdown",
   "id": "05ce8839",
   "metadata": {},
   "source": [
    "**a) What is the probability that the bottle content is between 1.9 and 2.0 liters?**"
   ]
  },
  {
   "cell_type": "code",
   "execution_count": 22,
   "id": "4f8126e6",
   "metadata": {},
   "outputs": [
    {
     "name": "stdout",
     "output_type": "stream",
     "text": [
      "Probability that the bottle content is between 1.9 and 2 liters is 0.4772\n"
     ]
    }
   ],
   "source": [
    "Prob = stats.norm.cdf(2,loc=mu,scale=sigma) - stats.norm.cdf(1.90,loc=mu,scale=sigma)\n",
    "print(\"Probability that the bottle content is between 1.9 and 2 liters is %3.4f\" % Prob)"
   ]
  },
  {
   "cell_type": "markdown",
   "id": "6152fa91",
   "metadata": {},
   "source": [
    "**b) What is the probability that the bottle content is between 1.9 and 2.1 liters?**"
   ]
  },
  {
   "cell_type": "code",
   "execution_count": 23,
   "id": "bfd5402f",
   "metadata": {},
   "outputs": [
    {
     "name": "stdout",
     "output_type": "stream",
     "text": [
      "Probability that the bottle content is between 1.9 and 2.1 liters is 0.9545\n"
     ]
    }
   ],
   "source": [
    "Prob = stats.norm.cdf(2.1,loc=mu,scale=sigma) - stats.norm.cdf(1.9,loc=mu,scale=sigma)\n",
    "print(\"Probability that the bottle content is between 1.9 and 2.1 liters is %3.4f\" % Prob)"
   ]
  },
  {
   "cell_type": "markdown",
   "id": "e7137a9e",
   "metadata": {},
   "source": [
    "**c) What is the probability that the bottle content is below 1.9 liters or above 2.1 liters?**"
   ]
  },
  {
   "cell_type": "code",
   "execution_count": 24,
   "id": "f589fd77",
   "metadata": {},
   "outputs": [
    {
     "name": "stdout",
     "output_type": "stream",
     "text": [
      "Probability that the bottle content is below 1.9 liters or above 2.1 liters is 0.0455\n"
     ]
    }
   ],
   "source": [
    "Prob1  =  stats.norm.cdf(1.9,loc=mu,scale=sigma)\n",
    "Prob2  =  1 - stats.norm.cdf(2.1,loc=mu,scale=sigma)\n",
    "print(\"Probability that the bottle content is below 1.9 liters or above 2.1 liters is %3.4f\" % (Prob1 + Prob2))"
   ]
  },
  {
   "cell_type": "markdown",
   "id": "2d070d97",
   "metadata": {},
   "source": [
    "**d) 99% of the bottles contains at least what amount of soft drink in them?**"
   ]
  },
  {
   "cell_type": "code",
   "execution_count": 25,
   "id": "e2197dce",
   "metadata": {},
   "outputs": [
    {
     "name": "stdout",
     "output_type": "stream",
     "text": [
      "99% of the bottles have at least 1.88 Liters\n"
     ]
    }
   ],
   "source": [
    "Prob = stats.norm.ppf(0.01, loc = mu, scale = sigma)\n",
    "print(\"99% of the bottles have at least\",round(Prob,2),\"Liters\")"
   ]
  },
  {
   "cell_type": "code",
   "execution_count": null,
   "id": "bb4b049d",
   "metadata": {},
   "outputs": [],
   "source": []
  }
 ],
 "metadata": {
  "kernelspec": {
   "display_name": "Python 3 (ipykernel)",
   "language": "python",
   "name": "python3"
  },
  "language_info": {
   "codemirror_mode": {
    "name": "ipython",
    "version": 3
   },
   "file_extension": ".py",
   "mimetype": "text/x-python",
   "name": "python",
   "nbconvert_exporter": "python",
   "pygments_lexer": "ipython3",
   "version": "3.11.5"
  }
 },
 "nbformat": 4,
 "nbformat_minor": 5
}
