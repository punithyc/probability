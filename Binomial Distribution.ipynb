{
 "cells": [
  {
   "cell_type": "code",
   "execution_count": 1,
   "id": "886fdd17",
   "metadata": {},
   "outputs": [],
   "source": [
    "import numpy as np\n",
    "import pandas as pd\n",
    "import seaborn as sns\n",
    "import matplotlib.pyplot as plt\n",
    "import scipy.stats as stats\n",
    "%matplotlib inline"
   ]
  },
  {
   "cell_type": "markdown",
   "id": "b5b73fe7",
   "metadata": {},
   "source": [
    "**Example 1: Predicting Machine Failure in a Manufacturing Plant**\n",
    "Scenario: In a manufacturing plant, there are 15 machines. Each machine has a 3% chance of failing on a given day. We are interested in finding the probability that at least 3 machines will fail on a particular day"
   ]
  },
  {
   "cell_type": "markdown",
   "id": "cea241e0",
   "metadata": {},
   "source": [
    "n=15(no of trails)\n",
    "k=[1,2,3] (no of machines that fails in a given day)\n",
    "p=0.03\n",
    "the  probability of finding that atleast 3 machines will fail on a particular day (i.e., p[x>=3])"
   ]
  },
  {
   "cell_type": "code",
   "execution_count": 2,
   "id": "80658bc7",
   "metadata": {},
   "outputs": [
    {
     "name": "stdout",
     "output_type": "stream",
     "text": [
      "The probability that at least 3 machines will fail on a given day is: 0.0008\n"
     ]
    }
   ],
   "source": [
    "# Parameters\n",
    "n = 15  # number of machines\n",
    "k = 3   # at least 3 machines failing\n",
    "p = 0.03  # probability of failure\n",
    "\n",
    "# Calculate the probability of more than 3 machines failing\n",
    "prob_greater_than_3 = 1 - stats.binom.cdf(k, n, p)\n",
    "\n",
    "# Output the result\n",
    "print(f\"The probability that at least 3 machines will fail on a given day is: {prob_greater_than_3:.4f}\")\n"
   ]
  },
  {
   "cell_type": "markdown",
   "id": "a2fa8e3a",
   "metadata": {},
   "source": [
    "Therefore the probability that atleast 3 machines will fail on a given day is 0.85%"
   ]
  },
  {
   "cell_type": "markdown",
   "id": "ece5c9b3",
   "metadata": {},
   "source": [
    "**Example 2: Fraud Detection in Credit Card Transactions**\n",
    "A credit card company processes 10,000 transactions per day, and historically 2% of these transactions are fraudulent. The company wants to calculate the probability that more than 250 transactions are fraudulent on any given day, which would trigger further investigation."
   ]
  },
  {
   "cell_type": "code",
   "execution_count": 3,
   "id": "274f168c",
   "metadata": {},
   "outputs": [
    {
     "name": "stdout",
     "output_type": "stream",
     "text": [
      "The probability of getting more than 250 fraudulent transactions is: 0.0002\n"
     ]
    }
   ],
   "source": [
    "# Parameters\n",
    "n = 10000  # number of transactions\n",
    "p = 0.02   # probability of a transaction being fraudulent\n",
    "k = 250    # number of fraudulent transactions\n",
    "\n",
    "# Calculate the probability of having fewer than or equal to 250 fraudulent transactions\n",
    "prob_less_than = stats.binom.cdf(k, n, p)\n",
    "\n",
    "# Calculate the probability of having more than 250 fraudulent transactions\n",
    "prob_greater_than = 1 - prob_less_than\n",
    "\n",
    "# Output the result\n",
    "print(f\"The probability of getting more than 250 fraudulent transactions is: {prob_greater_than:.4f}\")"
   ]
  },
  {
   "cell_type": "markdown",
   "id": "73b02913",
   "metadata": {},
   "source": [
    "therefore the probability of getting more than 250 fradulent transactions is 0.02% on any particular day"
   ]
  },
  {
   "cell_type": "markdown",
   "id": "ff62fe10",
   "metadata": {},
   "source": [
    "**Example 3: Website Conversion Rate Testing with A/B Testing**\n",
    "A company runs an A/B test on a new landing page. Version A of the landing page has an 8% conversion rate. Version B is tested on 500 users, and the goal is to find the probability that at least 50 users convert if version B has the same 8% conversion rate as version A\n"
   ]
  },
  {
   "cell_type": "code",
   "execution_count": 4,
   "id": "8fdd4d92",
   "metadata": {},
   "outputs": [],
   "source": [
    "n=500\n",
    "\n",
    "p=0.08"
   ]
  },
  {
   "cell_type": "code",
   "execution_count": 5,
   "id": "dd569d84",
   "metadata": {},
   "outputs": [
    {
     "name": "stdout",
     "output_type": "stream",
     "text": [
      "The probability that at least 50 users convert is: 0.06219\n"
     ]
    }
   ],
   "source": [
    "\n",
    "n = 500  # number of users for version B\n",
    "p = 0.08  # conversion rate (8%)\n",
    "\n",
    "# Calculate the probability of fewer than 50 conversions (P(X < 50))\n",
    "prob_less_than_50 = sum([stats.binom.pmf(k, n, p) for k in range(50)])\n",
    "\n",
    "# Calculate the probability of at least 50 conversions (P(X >= 50))\n",
    "prob_at_least_50 = 1 - prob_less_than_50\n",
    "\n",
    "print(f\"The probability that at least 50 users convert is: {prob_at_least_50:.5f}\")\n"
   ]
  },
  {
   "cell_type": "markdown",
   "id": "4430774c",
   "metadata": {},
   "source": [
    "**Example 4: Quality Control in Manufacturing**\n",
    "A factory produces light bulbs, and the quality control department has determined that the defect rate is 2%. In a batch of 1,000 light bulbs, what is the probability that at most 15 light bulbs are defective?"
   ]
  },
  {
   "cell_type": "code",
   "execution_count": 6,
   "id": "e191e83e",
   "metadata": {},
   "outputs": [
    {
     "name": "stdout",
     "output_type": "stream",
     "text": [
      "The probability of at most 15 defective light bulbs is: 0.15391\n"
     ]
    }
   ],
   "source": [
    "\n",
    "# Parameters\n",
    "n = 1000  # number of light bulbs\n",
    "p = 0.02  # defect rate\n",
    "\n",
    "# Calculate the probability of at most 15 defective light bulbs\n",
    "prob_at_most_15 = sum([stats.binom.pmf(k, n, p) for k in range(16)])\n",
    "\n",
    "print(f\"The probability of at most 15 defective light bulbs is: {prob_at_most_15:.5f}\")\n"
   ]
  },
  {
   "cell_type": "markdown",
   "id": "9267f08c",
   "metadata": {},
   "source": [
    "There probability of finding at most 15 defective light bulbs in a batch of 1,000 is 2%"
   ]
  },
  {
   "cell_type": "markdown",
   "id": "3913dd42",
   "metadata": {},
   "source": [
    "**Example 5: Medical Trials**\n",
    "A new drug has a success rate of 70% in curing a particular disease. If 200 patients are treated with this drug, what is the probability that exactly 150 patients are cured?"
   ]
  },
  {
   "cell_type": "code",
   "execution_count": 7,
   "id": "f0533bc0",
   "metadata": {},
   "outputs": [
    {
     "name": "stdout",
     "output_type": "stream",
     "text": [
      "The probability that exactly 150 patients are cured is: 0.01895\n"
     ]
    }
   ],
   "source": [
    "# Parameters\n",
    "n = 200  # number of patients\n",
    "p = 0.70  # success rate\n",
    "\n",
    "# Calculate the probability of exactly 150 patients being cured\n",
    "prob_exactly_150 = stats.binom.pmf(150, n, p)\n",
    "\n",
    "print(f\"The probability that exactly 150 patients are cured is: {prob_exactly_150:.5f}\")\n"
   ]
  },
  {
   "cell_type": "markdown",
   "id": "ae4559f7",
   "metadata": {},
   "source": [
    "The probability of exactly 150 patients being cured out of 200 using the drug is 1.8%"
   ]
  },
  {
   "cell_type": "markdown",
   "id": "3c183870",
   "metadata": {},
   "source": [
    "**Example 5: Election Polling**\n",
    "In a certain district, a pollster finds that 55% of voters favor Candidate A. If 1,000 voters are randomly surveyed, what is the probability that at least 600 voters favor Candidate A?"
   ]
  },
  {
   "cell_type": "code",
   "execution_count": 8,
   "id": "8fd92257",
   "metadata": {},
   "outputs": [
    {
     "name": "stdout",
     "output_type": "stream",
     "text": [
      "The probability that at least 600 voters favor Candidate A is: 0.00079\n"
     ]
    }
   ],
   "source": [
    "# Parameters\n",
    "n = 1000  # number of voters\n",
    "p = 0.55  # favoring Candidate A\n",
    "\n",
    "# Calculate the probability of fewer than 600 voters favoring Candidate A\n",
    "prob_less_than_600 = sum([stats.binom.pmf(k, n, p) for k in range(600)])\n",
    "\n",
    "# Calculate the probability of at least 600 voters favoring Candidate A\n",
    "prob_at_least_600 = 1 - prob_less_than_600\n",
    "\n",
    "print(f\"The probability that at least 600 voters favor Candidate A is: {prob_at_least_600:.5f}\")\n"
   ]
  },
  {
   "cell_type": "markdown",
   "id": "abba9c17",
   "metadata": {},
   "source": [
    "The probability of at least 600 out of 1,000 voters favoring Candidate A is 0.0007%"
   ]
  },
  {
   "cell_type": "markdown",
   "id": "193aec16",
   "metadata": {},
   "source": [
    "**Example 7: Sports Statistics**\n",
    "A basketball player has a free throw success rate of 75%. If he attempts 50 free throws in a game, what is the probability that he makes between 35 and 40 successful shots?"
   ]
  },
  {
   "cell_type": "code",
   "execution_count": 9,
   "id": "9617cc03",
   "metadata": {},
   "outputs": [
    {
     "name": "stdout",
     "output_type": "stream",
     "text": [
      "The probability of making between 35 and 40 successful shots is: 0.67323\n"
     ]
    }
   ],
   "source": [
    "# Parameters\n",
    "n = 50  # free throw attempts\n",
    "p = 0.75  # success rate\n",
    "\n",
    "# Calculate the probability of making between 35 and 40 successful shots\n",
    "prob_between_35_and_40 = sum([stats.binom.pmf(k, n, p) for k in range(35, 41)])\n",
    "\n",
    "print(f\"The probability of making between 35 and 40 successful shots is: {prob_between_35_and_40:.5f}\")\n"
   ]
  },
  {
   "cell_type": "markdown",
   "id": "6b4a4be9",
   "metadata": {},
   "source": [
    "The probability of making between 35 and 40 successful shots out of 50 is 67%"
   ]
  },
  {
   "cell_type": "markdown",
   "id": "44aee7f2",
   "metadata": {},
   "source": [
    "**Example 8: Software Bug Detection in Beta Testing**\n",
    " A company is conducting beta testing for a new software release. Historically, 5% of the users report bugs during testing. If 300 users are selected for testing, what is the probability that between 10 and 20 users will report bugs?"
   ]
  },
  {
   "cell_type": "code",
   "execution_count": 10,
   "id": "84b4980b",
   "metadata": {},
   "outputs": [
    {
     "name": "stdout",
     "output_type": "stream",
     "text": [
      "The probability that between 10 and 20 users report bugs is: 0.85739%\n"
     ]
    }
   ],
   "source": [
    "# Parameters\n",
    "n = 300  # number of users\n",
    "p = 0.05  # bug report rate\n",
    "\n",
    "# Calculate the probability of between 10 and 20 users reporting bugs\n",
    "prob_between_10_and_20 = sum([stats.binom.pmf(k, n, p) for k in range(10, 21)])\n",
    "\n",
    "print(f\"The probability that between 10 and 20 users report bugs is: {prob_between_10_and_20:.5f}%\")\n"
   ]
  },
  {
   "cell_type": "markdown",
   "id": "cb82d3fe",
   "metadata": {},
   "source": [
    "**Example 9: Email Marketing Campaign**\n",
    "Scenario: An email marketing campaign has a 2% response rate. Out of 1,200 emails sent, what is the probability that fewer than 30 recipients will respond?"
   ]
  },
  {
   "cell_type": "code",
   "execution_count": 11,
   "id": "544de016",
   "metadata": {},
   "outputs": [
    {
     "name": "stdout",
     "output_type": "stream",
     "text": [
      "The probability that fewer than 30 recipients respond is: 0.87017\n"
     ]
    }
   ],
   "source": [
    "# Parameters\n",
    "n = 1200  # number of emails\n",
    "p = 0.02  # response rate\n",
    "\n",
    "# Calculate the probability of fewer than 30 recipients responding\n",
    "prob_fewer_than_30 = sum([stats.binom.pmf(k, n, p) for k in range(30)])\n",
    "\n",
    "print(f\"The probability that fewer than 30 recipients respond is: {prob_fewer_than_30:.5f}\")\n"
   ]
  },
  {
   "cell_type": "markdown",
   "id": "0b2dfd24",
   "metadata": {},
   "source": [
    "**Example 10: Security System False Alarms**\n",
    "Scenario: A security system has a 1% chance of triggering a false alarm each day. What is the probability that out of 365 days, there will be exactly 5 false alarms?"
   ]
  },
  {
   "cell_type": "code",
   "execution_count": 12,
   "id": "d63549b2",
   "metadata": {},
   "outputs": [
    {
     "name": "stdout",
     "output_type": "stream",
     "text": [
      "The probability of exactly 5 false alarms in a year is: 0.14093%\n"
     ]
    }
   ],
   "source": [
    "# Parameters\n",
    "n = 365  # number of days\n",
    "p = 0.01  # false alarm rate\n",
    "\n",
    "# Calculate the probability of exactly 5 false alarms\n",
    "prob_exactly_5 = stats.binom.pmf(5, n, p)\n",
    "\n",
    "print(f\"The probability of exactly 5 false alarms in a year is: {prob_exactly_5:.5f}%\")\n"
   ]
  },
  {
   "cell_type": "markdown",
   "id": "7f3d0482",
   "metadata": {},
   "source": [
    "**Example 11: Vaccine Efficacy in Trials**\n",
    "Scenario: A vaccine has an efficacy rate of 95%. If 500 participants are vaccinated, what is the probability that at most 10 people still get infected?"
   ]
  },
  {
   "cell_type": "code",
   "execution_count": 13,
   "id": "06141a3c",
   "metadata": {},
   "outputs": [
    {
     "name": "stdout",
     "output_type": "stream",
     "text": [
      "The probability that at most 10 people get infected is: 0.00046%\n"
     ]
    }
   ],
   "source": [
    "# Parameters\n",
    "n = 500  # number of participants\n",
    "p = 0.05  # infection rate\n",
    "\n",
    "# Calculate the probability of at most 10 people getting infected\n",
    "prob_at_most_10 = sum([stats.binom.pmf(k, n, p) for k in range(11)])\n",
    "\n",
    "print(f\"The probability that at most 10 people get infected is: {prob_at_most_10:.5f}%\")\n"
   ]
  },
  {
   "cell_type": "markdown",
   "id": "65c23d70",
   "metadata": {},
   "source": [
    "**Example 12: Sports Betting**\n",
    "Scenario: In a cricket game, a batter has a 40% chance of hitting a boundary. If the batter faces 15 deliveries, what is the probability that they hit exactly 8 boundaries?"
   ]
  },
  {
   "cell_type": "code",
   "execution_count": 14,
   "id": "71b0710d",
   "metadata": {},
   "outputs": [
    {
     "name": "stdout",
     "output_type": "stream",
     "text": [
      "The probability of hitting exactly 8 boundaries is: 0.11806%\n"
     ]
    }
   ],
   "source": [
    "# Parameters\n",
    "n = 15  # number of deliveries\n",
    "p = 0.40  # probability of hitting a boundary\n",
    "\n",
    "# Calculate the probability of hitting exactly 8 boundaries\n",
    "prob_exactly_8 = stats.binom.pmf(8, n, p)\n",
    "\n",
    "print(f\"The probability of hitting exactly 8 boundaries is: {prob_exactly_8:.5f}%\")\n"
   ]
  },
  {
   "cell_type": "markdown",
   "id": "55856538",
   "metadata": {},
   "source": [
    "**Example 13:**\n",
    "A LED bulb manufacturing company regularly conducts quality checks at specified periods on the products it manufactures. Historically, the failure rate for LED light bulbs that the company manufactures is 5%. Suppose a random sample of 10 LED light bulbs is selected. Find the probability distribution for the defective bulbs and answer the following questions"
   ]
  },
  {
   "cell_type": "code",
   "execution_count": 15,
   "id": "db394274",
   "metadata": {},
   "outputs": [
    {
     "name": "stdout",
     "output_type": "stream",
     "text": [
      "Probability distribution for defective bulbs: [0.5987369392383789, 0.3151247048623047, 0.07463479852001963, 0.010475059441406236, 0.0009648081064453126, 6.093524882812493e-05, 2.672598632812499e-06, 8.037890625e-08, 1.5864257812499999e-09, 1.855468749999999e-11, 9.76562500000001e-14]\n"
     ]
    }
   ],
   "source": [
    "import numpy as np\n",
    "from scipy import stats\n",
    "\n",
    "# Parameters\n",
    "n = 10  # number of LED bulbs in the sample\n",
    "p = 0.05  # probability of a defective bulb\n",
    "\n",
    "# Probability distribution: Calculate P(X = k) for k = 0, 1, ..., 10\n",
    "probabilities = [stats.binom.pmf(k, n, p) for k in range(n+1)]\n",
    "\n",
    "# Calculate the probability of getting no defective bulbs (P(X = 0))\n",
    "prob_no_defective = stats.binom.pmf(0, n, p)\n",
    "\n",
    "# Calculate the probability of getting more than 2 defective bulbs (P(X > 2))\n",
    "prob_more_than_2 = 1 - stats.binom.cdf(2, n, p)\n",
    "\n",
    "# Print the results\n",
    "print(f\"Probability distribution for defective bulbs: {probabilities}\")\n",
    "\n"
   ]
  },
  {
   "cell_type": "markdown",
   "id": "3f0f4124",
   "metadata": {},
   "source": [
    "**a) What is the probability that none of the LED bulbs are defective?**"
   ]
  },
  {
   "cell_type": "code",
   "execution_count": 16,
   "id": "a0540fbd",
   "metadata": {},
   "outputs": [
    {
     "name": "stdout",
     "output_type": "stream",
     "text": [
      "Probability of no defective bulbs (P(X = 0)): 0.59874\n"
     ]
    }
   ],
   "source": [
    "print(f\"Probability of no defective bulbs (P(X = 0)): {prob_no_defective:.5f}\")\n"
   ]
  },
  {
   "cell_type": "markdown",
   "id": "30e55e9a",
   "metadata": {},
   "source": [
    "**b) What is the probability that exactly one of the LED bulbs is defective?**"
   ]
  },
  {
   "cell_type": "code",
   "execution_count": 17,
   "id": "0c597bd0",
   "metadata": {},
   "outputs": [
    {
     "name": "stdout",
     "output_type": "stream",
     "text": [
      "Probability of more than 2 defective bulbs (P(X > 2)): 0.01150\n"
     ]
    }
   ],
   "source": [
    "print(f\"Probability of more than 2 defective bulbs (P(X > 2)): {prob_more_than_2:.5f}\")"
   ]
  },
  {
   "cell_type": "markdown",
   "id": "3f7b3db2",
   "metadata": {},
   "source": [
    "**c) What is the probability that two or fewer of the LED bulbs are defective?**"
   ]
  },
  {
   "cell_type": "code",
   "execution_count": 18,
   "id": "1087ede5",
   "metadata": {},
   "outputs": [
    {
     "name": "stdout",
     "output_type": "stream",
     "text": [
      "The probability that two or fewer of the LED bulbs are defective is 0.9885\n"
     ]
    }
   ],
   "source": [
    "k   =  np.arange(0,11)\n",
    "cumulative_binomial = stats.binom.cdf(k,n,p)\n",
    "print('The probability that two or fewer of the LED bulbs are defective is %1.4f' %cumulative_binomial[2])"
   ]
  },
  {
   "cell_type": "markdown",
   "id": "ed5ca0c2",
   "metadata": {},
   "source": [
    "**d) What is the probability that three or more of the LED bulbs are defective?**"
   ]
  },
  {
   "cell_type": "code",
   "execution_count": 19,
   "id": "86f03a8a",
   "metadata": {},
   "outputs": [
    {
     "name": "stdout",
     "output_type": "stream",
     "text": [
      "The probability that three or more of the LED bulbs are defective is 0.0115\n"
     ]
    }
   ],
   "source": [
    "P = 1- cumulative_binomial[2]\n",
    "print('The probability that three or more of the LED bulbs are defective is %1.4f' % P)"
   ]
  },
  {
   "cell_type": "markdown",
   "id": "94c1f597",
   "metadata": {},
   "source": [
    "**Example 14:**\n",
    "During an NBA game, a basketball player has two foul shots (free throw) and the conversion rate of free-throw shots is 93%. Find the following probabilities."
   ]
  },
  {
   "cell_type": "code",
   "execution_count": 20,
   "id": "290e5aaf",
   "metadata": {},
   "outputs": [],
   "source": [
    "success=0.93\n"
   ]
  },
  {
   "cell_type": "markdown",
   "id": "1f95a96b",
   "metadata": {},
   "source": [
    "**a) What is the probability that the player will convert both the shots?**"
   ]
  },
  {
   "cell_type": "code",
   "execution_count": 21,
   "id": "adc95fef",
   "metadata": {},
   "outputs": [
    {
     "name": "stdout",
     "output_type": "stream",
     "text": [
      "The probability that the player will convert both the shots is 0.8649\n"
     ]
    }
   ],
   "source": [
    "print('The probability that the player will convert both the shots is',round(stats.binom.pmf(2,2,0.93),4))"
   ]
  },
  {
   "cell_type": "markdown",
   "id": "cbb4b0fb",
   "metadata": {},
   "source": [
    "**b) What is the probability that the player will convert at least one shot?**"
   ]
  },
  {
   "cell_type": "code",
   "execution_count": 22,
   "id": "67ef8c6c",
   "metadata": {},
   "outputs": [
    {
     "name": "stdout",
     "output_type": "stream",
     "text": [
      "The probability that the player will convert at least one shot is 0.9951\n"
     ]
    }
   ],
   "source": [
    "print('The probability that the player will convert at least one shot is',round((1 - stats.binom.cdf(0,2,0.93)),4))"
   ]
  },
  {
   "cell_type": "markdown",
   "id": "b950551e",
   "metadata": {},
   "source": [
    "**Example 15 :** Over a long period in a large multinomial corporation, 10% of all sales trainees are rated as outstanding, 75% are rated as excellent, 10% are rated as satisfactory and 5% are considered unsatisfactory. Find the following probabilities for a sample of 10 trainees selected at random."
   ]
  },
  {
   "cell_type": "markdown",
   "id": "18c227ca",
   "metadata": {},
   "source": [
    "**a) Two are rated as outstanding**"
   ]
  },
  {
   "cell_type": "code",
   "execution_count": 23,
   "id": "eb063821",
   "metadata": {},
   "outputs": [
    {
     "name": "stdout",
     "output_type": "stream",
     "text": [
      "Probability that two trainees are rated as outstanding is 0.19371\n"
     ]
    }
   ],
   "source": [
    "p=0.1\n",
    "n=10\n",
    "k=2\n",
    "binomial = stats.binom.pmf(k,n,p)\n",
    "print('Probability that two trainees are rated as outstanding is %1.5f' % binomial )"
   ]
  },
  {
   "cell_type": "markdown",
   "id": "8b8ad1a6",
   "metadata": {},
   "source": [
    "**b) Two or more are rated as outstanding**"
   ]
  },
  {
   "cell_type": "code",
   "execution_count": 24,
   "id": "0dc54e0c",
   "metadata": {},
   "outputs": [
    {
     "name": "stdout",
     "output_type": "stream",
     "text": [
      "Probability that two or more trainees are rated as outstanding is 0.26390\n"
     ]
    }
   ],
   "source": [
    "p=0.1\n",
    "n=10\n",
    "k=1\n",
    "\n",
    "##To  answer this we need to calculate the cumulative probability \n",
    "binomial = stats.binom.cdf(k,n,p)\n",
    "\n",
    "#since we have calculated for 1 or less, for two or more we will subtract this prob from 1\n",
    "print('Probability that two or more trainees are rated as outstanding is %1.5f' % (1-binomial))"
   ]
  },
  {
   "cell_type": "markdown",
   "id": "50441e91",
   "metadata": {},
   "source": [
    "**c) Eight of the ten are rated either outstanding or excellent**"
   ]
  },
  {
   "cell_type": "code",
   "execution_count": 25,
   "id": "c15afc5e",
   "metadata": {},
   "outputs": [
    {
     "name": "stdout",
     "output_type": "stream",
     "text": [
      "Probability that eight out of ten trainees are rated either excellent or outstanding is 0.27590\n"
     ]
    }
   ],
   "source": [
    "#Probability of excellent or outstanding is 0.75 + 0.10\n",
    "\n",
    "p=0.85\n",
    "n=10\n",
    "k=8\n",
    "binomial = stats.binom.pmf(k,n,p)\n",
    "print('Probability that eight out of ten trainees are rated either excellent or outstanding is %1.5f' % binomial)"
   ]
  },
  {
   "cell_type": "markdown",
   "id": "6a48952b",
   "metadata": {},
   "source": [
    "**d) None of the trainees are rated as unsatisfactory**"
   ]
  },
  {
   "cell_type": "code",
   "execution_count": 26,
   "id": "070b06fa",
   "metadata": {},
   "outputs": [
    {
     "name": "stdout",
     "output_type": "stream",
     "text": [
      "Probability of no trainees are unsatisfactory is 0.59874\n"
     ]
    }
   ],
   "source": [
    "p=0.05\n",
    "n=10\n",
    "k=0\n",
    "binomial = stats.binom.pmf(k,n,p)\n",
    "print('Probability of no trainees are unsatisfactory is %1.5f' % binomial )"
   ]
  },
  {
   "cell_type": "code",
   "execution_count": null,
   "id": "7baafee3",
   "metadata": {},
   "outputs": [],
   "source": []
  }
 ],
 "metadata": {
  "kernelspec": {
   "display_name": "Python 3 (ipykernel)",
   "language": "python",
   "name": "python3"
  },
  "language_info": {
   "codemirror_mode": {
    "name": "ipython",
    "version": 3
   },
   "file_extension": ".py",
   "mimetype": "text/x-python",
   "name": "python",
   "nbconvert_exporter": "python",
   "pygments_lexer": "ipython3",
   "version": "3.11.5"
  }
 },
 "nbformat": 4,
 "nbformat_minor": 5
}
