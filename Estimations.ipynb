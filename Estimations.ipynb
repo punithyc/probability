{
 "cells": [
  {
   "cell_type": "code",
   "execution_count": 1,
   "id": "53eed708",
   "metadata": {},
   "outputs": [],
   "source": [
    "import numpy as np\n",
    "import pandas as pd\n",
    "import seaborn as sns\n",
    "import matplotlib.pyplot as plt\n",
    "import scipy.stats as stats\n",
    "import plotly.express as px\n",
    "%matplotlib inline"
   ]
  },
  {
   "cell_type": "markdown",
   "id": "7c9dd5cf",
   "metadata": {},
   "source": [
    "## Point Estimation"
   ]
  },
  {
   "cell_type": "markdown",
   "id": "eb7efd12",
   "metadata": {},
   "source": [
    "A non profit organization sampled the files of the local foresr department to come up with the amounts(in thousands of dollars) for 10 wildfire incidents:\n",
    "\n",
    "120,55,60,10,8,150,44,58,62,123\n",
    "\n",
    "what is the estimate of the average amount of damage in wildfires in that area?"
   ]
  },
  {
   "cell_type": "code",
   "execution_count": 2,
   "id": "48025bc8",
   "metadata": {},
   "outputs": [
    {
     "data": {
      "text/plain": [
       "69.0"
      ]
     },
     "execution_count": 2,
     "metadata": {},
     "output_type": "execute_result"
    }
   ],
   "source": [
    "sample=np.array([120,55,60,10,8,150,44,58,62,123])\n",
    "\n",
    "x_bar=np.mean(sample)\n",
    "x_bar"
   ]
  },
  {
   "cell_type": "markdown",
   "id": "65c2e8e8",
   "metadata": {},
   "source": [
    " The estimate of the average amount of damages in wildfires in that area is $69000"
   ]
  },
  {
   "cell_type": "markdown",
   "id": "6daf1bea",
   "metadata": {},
   "source": [
    "## Confidence intervals"
   ]
  },
  {
   "attachments": {
    "image.png": {
     "image/png": "[encoded data removed]"
    }
   },
   "cell_type": "markdown",
   "id": "ada10030",
   "metadata": {},
   "source": [
    "**constructing a confidence interval for the population mean when std is known**\n",
    "\n",
    "when we know population standard deviation,  we use normal distribution and the formula for the confidence interval is ![image.png](attachment:image.png)\n",
    "\n",
    "**Problem 1:**\n",
    "The caffeine content (in mg) was examined for a random sample of 50 cups of black coffee dispensed by a new coffee machine.The mean of the sample is found to be 110 mg. It is known that the standard deviation from all the mahines of that manufacturer is 7 mg. Construct a 95% confidence interval for meaan the men caffeine content for cups dispensed by the machine"
   ]
  },
  {
   "cell_type": "code",
   "execution_count": 3,
   "id": "0169546e",
   "metadata": {},
   "outputs": [
    {
     "data": {
      "text/plain": [
       "array([108.06, 111.94])"
      ]
     },
     "execution_count": 3,
     "metadata": {},
     "output_type": "execute_result"
    }
   ],
   "source": [
    "from scipy.stats import norm\n",
    "\n",
    "x_bar,sigma=110,7\n",
    "n=50\n",
    "\n",
    "np.round(norm.interval(0.95,loc=x_bar,scale=sigma/np.sqrt(n)),2)"
   ]
  },
  {
   "cell_type": "markdown",
   "id": "3c19010d",
   "metadata": {},
   "source": [
    "From the above we can see that the mean caffeine content for cups of dispensed by the machine will be between 108.06 mg and 111.94 mg"
   ]
  },
  {
   "cell_type": "markdown",
   "id": "3a88ae66",
   "metadata": {},
   "source": [
    "**Problem 2 :**\n",
    "Suppose a factory produces bags of rice with an average weight of 10 kg. From a sample of 50 bags, the sample mean weight is 10.2 kg. The population standard deviation of the weight is known to be 0.8 kg. Find a 90% confidence interval for the true average weight of the bags produced."
   ]
  },
  {
   "cell_type": "code",
   "execution_count": 5,
   "id": "362a67e1",
   "metadata": {},
   "outputs": [
    {
     "name": "stdout",
     "output_type": "stream",
     "text": [
      "90% Confidence Interval for the population mean weight: (8.88, 11.52) kg\n"
     ]
    }
   ],
   "source": [
    "sample_mean=10.2\n",
    "pop_std_dev=0.8\n",
    "n=50\n",
    "\n",
    "ci_lower,ci_upper=norm.interval(0.90,loc=sample_mean,scale=pop_std_dev)\n",
    "print(f\"90% Confidence Interval for the population mean weight: ({ci_lower:.2f}, {ci_upper:.2f}) kg\")\n"
   ]
  },
  {
   "cell_type": "markdown",
   "id": "b56705eb",
   "metadata": {},
   "source": [
    "**Problem 3:** A pharmaceutical company is testing a new drug intended to reduce systolic blood pressure. After administering the drug to a sample of 50 patients, the mean reduction in blood pressure is 12 mmHg with a population standard deviation (from prior studies) of 3.5 mmHg."
   ]
  },
  {
   "cell_type": "code",
   "execution_count": 6,
   "id": "520a8d68",
   "metadata": {},
   "outputs": [
    {
     "name": "stdout",
     "output_type": "stream",
     "text": [
      "95% Confidence Interval for blood pressure reduction: (11.03, 12.97) mmHg\n"
     ]
    }
   ],
   "source": [
    "sample_mean = 12\n",
    "population_std_dev = 3.5\n",
    "n = 50\n",
    "confidence_level = 0.95\n",
    "\n",
    "ci_lower, ci_upper = norm.interval(confidence_level, loc=sample_mean, scale=population_std_dev / np.sqrt(n))\n",
    "\n",
    "print(f\"95% Confidence Interval for blood pressure reduction: ({ci_lower:.2f}, {ci_upper:.2f}) mmHg\")\n"
   ]
  },
  {
   "cell_type": "markdown",
   "id": "60a48df7",
   "metadata": {},
   "source": [
    "**constructing a confidence interval for the population mean when std is not known**"
   ]
  },
  {
   "attachments": {
    "image.png": {
     "image/png": "[encoded data removed]"
    }
   },
   "cell_type": "markdown",
   "id": "f0b98a11",
   "metadata": {},
   "source": [
    "when we dont know the population standard deviation it can be estimated from the sample. In this case the sample mean follows students t distribution with (n-1) degrees of freedom\n",
    "\n",
    "![image.png](attachment:image.png)"
   ]
  },
  {
   "cell_type": "markdown",
   "id": "30a0598b",
   "metadata": {},
   "source": [
    "**Problem 1:** A manufacturer produces precision components, and management is interested in understanding the average diameter of a batch of components to assess quality control. A sample of 100 components shows a mean diameter of 5.02 mm and a standard deviation of 0.05 mm. The company claims that the target diameter is 5 mm."
   ]
  },
  {
   "cell_type": "code",
   "execution_count": 8,
   "id": "885e90ab",
   "metadata": {},
   "outputs": [
    {
     "name": "stdout",
     "output_type": "stream",
     "text": [
      "99% Confidence Interval for the average diameter: (5.0069, 5.0331) mm\n"
     ]
    }
   ],
   "source": [
    "from scipy.stats import t\n",
    "\n",
    "sample_mean = 5.02\n",
    "sample_std_dev = 0.05\n",
    "n = 100\n",
    "confidence_level = 0.99\n",
    "\n",
    "df = n - 1\n",
    "\n",
    "ci_lower, ci_upper = t.interval(confidence_level, df, loc=sample_mean, scale=sample_std_dev / np.sqrt(n))\n",
    "\n",
    "print(f\"99% Confidence Interval for the average diameter: ({ci_lower:.4f}, {ci_upper:.4f}) mm\")\n",
    "\n"
   ]
  },
  {
   "cell_type": "markdown",
   "id": "5e6ba1f2",
   "metadata": {},
   "source": [
    "**Problem 2:** In a study on the monthly expenses of college students, a sample of 30 students showed an average monthly expense of $850 with a sample standard deviation of $120. Construct a 95% confidence interval for the average monthly expenses of all college students."
   ]
  },
  {
   "cell_type": "code",
   "execution_count": 9,
   "id": "0036c96a",
   "metadata": {},
   "outputs": [
    {
     "name": "stdout",
     "output_type": "stream",
     "text": [
      "95% Confidence Interval for the average monthly expenses: ($805.19, $894.81)\n"
     ]
    }
   ],
   "source": [
    "sample_mean = 850\n",
    "sample_std_dev = 120\n",
    "n = 30\n",
    "confidence_level = 0.95\n",
    "\n",
    "df = n - 1\n",
    "\n",
    "ci_lower, ci_upper = t.interval(confidence_level, df, loc=sample_mean, scale=sample_std_dev / np.sqrt(n))\n",
    "print(f\"95% Confidence Interval for the average monthly expenses: (${ci_lower:.2f}, ${ci_upper:.2f})\")\n"
   ]
  },
  {
   "cell_type": "markdown",
   "id": "b6b0b82e",
   "metadata": {},
   "source": [
    "**Problem 3:** A hospital is assessing the average repair time for a particular type of medical equipment. Due to cost and time constraints, they randomly sample 25 repair incidents and find a mean repair time of 3.2 hours with a sample standard deviation of 0.8 hours."
   ]
  },
  {
   "cell_type": "code",
   "execution_count": 10,
   "id": "198a3e6d",
   "metadata": {},
   "outputs": [
    {
     "name": "stdout",
     "output_type": "stream",
     "text": [
      "95% Confidence Interval for average repair time: (2.87, 3.53) hours\n"
     ]
    }
   ],
   "source": [
    "sample_mean = 3.2\n",
    "sample_std_dev = 0.8\n",
    "n = 25\n",
    "confidence_level = 0.95\n",
    "\n",
    "df = n - 1\n",
    "\n",
    "ci_lower, ci_upper = t.interval(confidence_level, df, loc=sample_mean, scale=sample_std_dev / np.sqrt(n))\n",
    "\n",
    "print(f\"95% Confidence Interval for average repair time: ({ci_lower:.2f}, {ci_upper:.2f}) hours\")"
   ]
  },
  {
   "cell_type": "code",
   "execution_count": null,
   "id": "fc4e612e",
   "metadata": {},
   "outputs": [],
   "source": []
  }
 ],
 "metadata": {
  "kernelspec": {
   "display_name": "Python 3 (ipykernel)",
   "language": "python",
   "name": "python3"
  },
  "language_info": {
   "codemirror_mode": {
    "name": "ipython",
    "version": 3
   },
   "file_extension": ".py",
   "mimetype": "text/x-python",
   "name": "python",
   "nbconvert_exporter": "python",
   "pygments_lexer": "ipython3",
   "version": "3.11.5"
  }
 },
 "nbformat": 4,
 "nbformat_minor": 5
}
